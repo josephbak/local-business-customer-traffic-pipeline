{
 "cells": [
  {
   "cell_type": "code",
   "execution_count": 3,
   "id": "5d13a738-1a27-4140-aafc-29bdee71213c",
   "metadata": {},
   "outputs": [],
   "source": [
    "import requests\n",
    "import json\n",
    "import pandas as pd\n",
    "import os\n",
    "from dotenv import load_dotenv"
   ]
  },
  {
   "cell_type": "code",
   "execution_count": 4,
   "id": "674c2146-1ee0-4dad-9873-e90e04a35999",
   "metadata": {},
   "outputs": [
    {
     "data": {
      "text/plain": [
       "True"
      ]
     },
     "execution_count": 4,
     "metadata": {},
     "output_type": "execute_result"
    }
   ],
   "source": [
    "load_dotenv()  # Load environment variables from .env file"
   ]
  },
  {
   "cell_type": "code",
   "execution_count": 11,
   "id": "038b2aaf-77e7-47c0-a539-32c2b0f5f4d3",
   "metadata": {},
   "outputs": [
    {
     "name": "stdout",
     "output_type": "stream",
     "text": [
      "Name: John Brown BBQ\n",
      "Address: 27-20 40th Avenue, Astoria\n",
      "Rating: 4.5\n",
      "------------------------------\n",
      "Name: Five Star Banquet\n",
      "Address: 13-05 43rd Avenue, Long Island City\n",
      "Rating: 4.1\n",
      "------------------------------\n",
      "Name: Blend LIC\n",
      "Address: 47-04 Vernon Boulevard, Long Island City\n",
      "Rating: 4.5\n",
      "------------------------------\n",
      "Name: Show Palace Gentlemen's Club NYC\n",
      "Address: 42-50 21st Street, Long Island City\n",
      "Rating: 3.4\n",
      "------------------------------\n",
      "Name: Neels Pizza & Pasta\n",
      "Address: 10-01 36th Avenue, Astoria\n",
      "Rating: 4\n",
      "------------------------------\n",
      "Name: Court Square Diner\n",
      "Address: 45-30 23rd Street, Long Island City\n",
      "Rating: 4.4\n",
      "------------------------------\n",
      "Name: Manetta's Ristorante\n",
      "Address: 10-76 Jackson Avenue, Long Island City\n",
      "Rating: 4.6\n",
      "------------------------------\n",
      "Name: SHI\n",
      "Address: 4720 Center Boulevard, Long Island City\n",
      "Rating: 4.3\n",
      "------------------------------\n",
      "Name: Mad Donkey Beer Bar & Grill\n",
      "Address: 32-07 36th Avenue, Astoria\n",
      "Rating: 4.5\n",
      "------------------------------\n",
      "Name: Manducatis\n",
      "Address: 13-27 Jackson Avenue, Long Island City\n",
      "Rating: 4.6\n",
      "------------------------------\n",
      "Name: Petey's Burger\n",
      "Address: 46-46 Vernon Boulevard, Long Island City\n",
      "Rating: 4.2\n",
      "------------------------------\n",
      "Name: Good Taste\n",
      "Address: 3801 29th Street, Astoria\n",
      "Rating: 3.7\n",
      "------------------------------\n",
      "Name: Cafe Triskell\n",
      "Address: 33-04 36th Avenue, Queens\n",
      "Rating: 4.6\n",
      "------------------------------\n",
      "Name: Tuk Tuk\n",
      "Address: 49-06 Vernon Boulevard, Long Island City\n",
      "Rating: 4.4\n",
      "------------------------------\n",
      "Name: Rio Market Inc\n",
      "Address: 32-15 36th Avenue, Astoria\n",
      "Rating: 4.5\n",
      "------------------------------\n",
      "Name: Tournesol\n",
      "Address: 50-12 Vernon Boulevard, Long Island City\n",
      "Rating: 4.4\n",
      "------------------------------\n",
      "Name: Café Henri\n",
      "Address: 1010 50th Avenue, Long Island City\n",
      "Rating: 4.5\n",
      "------------------------------\n",
      "Name: M. Wells\n",
      "Address: 43-15 Crescent Street, Long Island City\n",
      "Rating: 4.4\n",
      "------------------------------\n",
      "Name: Casa Enrique\n",
      "Address: 5-48 49th Avenue, Long Island City\n",
      "Rating: 4.6\n",
      "------------------------------\n",
      "Name: Madera\n",
      "Address: 47-29 Vernon Boulevard, Long Island City\n",
      "Rating: 4.3\n",
      "------------------------------\n"
     ]
    }
   ],
   "source": [
    "# test\n",
    "# import os\n",
    "# import requests\n",
    "\n",
    "# Ensure your API key is loaded\n",
    "api_key = os.getenv(\"GOOGLE_API_KEY\")\n",
    "\n",
    "# Base URL for Google Places API\n",
    "url = \"https://maps.googleapis.com/maps/api/place/nearbysearch/json\"\n",
    "\n",
    "# Parameters\n",
    "params = {\n",
    "    \"location\": \"40.7509, -73.9411\",  # LIC, for example\n",
    "    \"radius\": 1500,                   # Search within 1.5 km radius\n",
    "    \"type\": \"restaurant\",             # Type of place you're looking for\n",
    "    \"key\": api_key\n",
    "}\n",
    "\n",
    "# Make a request to the Google Places API\n",
    "response = requests.get(url, params=params)\n",
    "data = response.json()\n",
    "\n",
    "# Print the results\n",
    "if response.status_code == 200:\n",
    "    for place in data.get(\"results\", []):\n",
    "        print(\"Name:\", place.get(\"name\"))\n",
    "        print(\"Address:\", place.get(\"vicinity\"))\n",
    "        print(\"Rating:\", place.get(\"rating\"))\n",
    "        print(\"-\" * 30)\n",
    "else:\n",
    "    print(\"Error:\", data.get(\"error_message\", \"Unknown error\"))\n"
   ]
  },
  {
   "cell_type": "code",
   "execution_count": 16,
   "id": "1552bf7e-ef72-423b-b0ff-c40b14819498",
   "metadata": {},
   "outputs": [
    {
     "name": "stdout",
     "output_type": "stream",
     "text": [
      "{'html_attributions': [], 'next_page_token': 'AdCG2DP81ZUOUOysqMY42lYpWjL4bcTkzehuAHiUEcbCjHk509LNqr59Eq_lQLkBguBBazLhPwk6CpUx-RgpMZ-W2d0y4uY1GqpZj5O30IZ9JB61UMckNsoc2zqKbwIOtdJWG0KmfRtKP6h981NJ1DUcACYqbXlAtPkDT9W6l_JVUjfbSp_3rPTSyO74GHsfIXZ8ErGtD7ApJFZ9OX287qijF1ZmDmAjPmAGzQT45t07xFXtTk0DIKM03W6GXU49dI-TyDkLs2V7N2yY-vadrWUnmbvKHo98m3rbcGgqXBS_ibKwzEC7fmIJhp2jVEzLjK0KgVyfTr9HgFsBfMrii5JYK3IEMjLM3YHXhhwz1vmJznipXDFYIuAKQIfE-L3l76QTghsE_NZF9SflEkSsRv6RM_9Uzm4HEENHiURMFF6tzbkxsNPFnZt9YwkUw4nU', 'results': [{'business_status': 'OPERATIONAL', 'geometry': {'location': {'lat': 40.7526585, 'lng': -73.93667359999999}, 'viewport': {'northeast': {'lat': 40.7540615802915, 'lng': -73.93527466970849}, 'southwest': {'lat': 40.7513636197085, 'lng': -73.9379726302915}}}, 'icon': 'https://maps.gstatic.com/mapfiles/place_api/icons/v1/png_71/restaurant-71.png', 'icon_background_color': '#FF9E67', 'icon_mask_base_uri': 'https://maps.gstatic.com/mapfiles/place_api/icons/v2/restaurant_pinlet', 'name': 'John Brown BBQ', 'opening_hours': {'open_now': True}, 'photos': [{'height': 3024, 'html_attributions': ['<a href=\"https://maps.google.com/maps/contrib/107368686195539378488\">Kelly M. Mueller</a>'], 'photo_reference': 'AdCG2DMwSMpbvlTGXHgFpnagElQIbTNFgVgdayxhzQeLwwlxD2UL9TwpBmHkDy8ME3Ia3EQbSQL9mlgCpQzzhM5MZdaB4ONktuskPPZz9wL7IgS5yDLhF3yqeUM79RqP93o9LKTfdOXbh6YT9QgYJswuXQgDE42mB2X5EgNaoTQc38p_2Tl1', 'width': 4032}], 'place_id': 'ChIJfSp0FS1fwokR8PYGmnV6vYs', 'plus_code': {'compound_code': 'Q337+38 Astoria, Queens, NY, USA', 'global_code': '87G8Q337+38'}, 'price_level': 2, 'rating': 4.5, 'reference': 'ChIJfSp0FS1fwokR8PYGmnV6vYs', 'scope': 'GOOGLE', 'types': ['restaurant', 'food', 'point_of_interest', 'establishment'], 'user_ratings_total': 2907, 'vicinity': '27-20 40th Avenue, Astoria'}, {'business_status': 'OPERATIONAL', 'geometry': {'location': {'lat': 40.7510958, 'lng': -73.9460058}, 'viewport': {'northeast': {'lat': 40.7523353302915, 'lng': -73.94470556970849}, 'southwest': {'lat': 40.7496373697085, 'lng': -73.94740353029151}}}, 'icon': 'https://maps.gstatic.com/mapfiles/place_api/icons/v1/png_71/generic_business-71.png', 'icon_background_color': '#7B9EB0', 'icon_mask_base_uri': 'https://maps.gstatic.com/mapfiles/place_api/icons/v2/generic_pinlet', 'name': 'Five Star Banquet', 'opening_hours': {'open_now': True}, 'photos': [{'height': 591, 'html_attributions': ['<a href=\"https://maps.google.com/maps/contrib/103354213837060889451\">Five Star Banquet</a>'], 'photo_reference': 'AdCG2DO-ABj4Ft8_p-WwrEgYY1U54fLRnM_k7l0t8IX9px3pfioGfFTI9DCN_NRq5tcLGvCQqhEvSQTwnmfGlMxperyYiMQLFJxIHnnIXjxbLoC23yU29W9O5zTfjlkr2m15VXolWH3i6N2_fBlia3sJygLmoQ59R_LsnjVM9cnYaboRHnee', 'width': 640}], 'place_id': 'ChIJg4BgwNdYwokRsfnbAaWsQb8', 'plus_code': {'compound_code': 'Q323+CH Long Island City, Queens, NY, USA', 'global_code': '87G8Q323+CH'}, 'price_level': 1, 'rating': 4.1, 'reference': 'ChIJg4BgwNdYwokRsfnbAaWsQb8', 'scope': 'GOOGLE', 'types': ['restaurant', 'food', 'point_of_interest', 'establishment'], 'user_ratings_total': 613, 'vicinity': '13-05 43rd Avenue, Long Island City'}, {'business_status': 'OPERATIONAL', 'geometry': {'location': {'lat': 40.745294, 'lng': -73.9534122}, 'viewport': {'northeast': {'lat': 40.74662808029149, 'lng': -73.9519865197085}, 'southwest': {'lat': 40.7439301197085, 'lng': -73.9546844802915}}}, 'icon': 'https://maps.gstatic.com/mapfiles/place_api/icons/v1/png_71/restaurant-71.png', 'icon_background_color': '#FF9E67', 'icon_mask_base_uri': 'https://maps.gstatic.com/mapfiles/place_api/icons/v2/restaurant_pinlet', 'name': 'Blend LIC', 'opening_hours': {'open_now': True}, 'photos': [{'height': 4032, 'html_attributions': ['<a href=\"https://maps.google.com/maps/contrib/100914396062182311529\">Dan Ferrara</a>'], 'photo_reference': 'AdCG2DMTCYHvvRRLaWNQ4G_O6ojEvwMQ15WWrZnIdLcpaEYgCa52Gj0CizTxCoMHBJ3sHe29MaJMo4yfw2_FzWj-iylan46XpVAnzB420m5NwrY4wFXf81Oy1c_tl2uPVIusf-hpSHPMbF6RviF12FsOqxEvj8DG5gj4wO-DrBN7W8uaMPDF', 'width': 3024}], 'place_id': 'ChIJEdfcByRZwokRQe04uT7LBNY', 'plus_code': {'compound_code': 'P2WW+4J Long Island City, Queens, NY, USA', 'global_code': '87G8P2WW+4J'}, 'price_level': 2, 'rating': 4.5, 'reference': 'ChIJEdfcByRZwokRQe04uT7LBNY', 'scope': 'GOOGLE', 'types': ['restaurant', 'food', 'point_of_interest', 'establishment'], 'user_ratings_total': 1648, 'vicinity': '47-04 Vernon Boulevard, Long Island City'}, {'business_status': 'OPERATIONAL', 'geometry': {'location': {'lat': 40.7510944, 'lng': -73.94553599999999}, 'viewport': {'northeast': {'lat': 40.75239138029151, 'lng': -73.94408276970849}, 'southwest': {'lat': 40.74969341970851, 'lng': -73.9467807302915}}}, 'icon': 'https://maps.gstatic.com/mapfiles/place_api/icons/v1/png_71/generic_business-71.png', 'icon_background_color': '#7B9EB0', 'icon_mask_base_uri': 'https://maps.gstatic.com/mapfiles/place_api/icons/v2/generic_pinlet', 'name': \"Show Palace Gentlemen's Club NYC\", 'opening_hours': {'open_now': False}, 'photos': [{'height': 1512, 'html_attributions': ['<a href=\"https://maps.google.com/maps/contrib/112751686599317907515\">Show Palace Gentlemen&#39;s Club NYC</a>'], 'photo_reference': 'AdCG2DOlXqR1zSMTYls4GHQ7u6JxMlNsCst-tqYl5i5okrJGPYmHewas_WngfE0KqXM79XjR1YWsVaQJVqrPgCKQiUHCbuUmvF681EXl0kj4HkeERtQD-fkyVlRqtACoenkvuux7IrZU1Yo2ICZ_PlpvD2NISP3TXqQcjTnCTd78iWPY9Aao', 'width': 2284}], 'place_id': 'ChIJ1SiUt9dYwokRvBBCh0qdA2I', 'plus_code': {'compound_code': 'Q323+CQ Long Island City, Queens, NY, USA', 'global_code': '87G8Q323+CQ'}, 'rating': 3.4, 'reference': 'ChIJ1SiUt9dYwokRvBBCh0qdA2I', 'scope': 'GOOGLE', 'types': ['bar', 'night_club', 'restaurant', 'food', 'point_of_interest', 'establishment'], 'user_ratings_total': 196, 'vicinity': '42-50 21st Street, Long Island City'}, {'business_status': 'OPERATIONAL', 'geometry': {'location': {'lat': 40.7615414, 'lng': -73.9405816}, 'viewport': {'northeast': {'lat': 40.7628448302915, 'lng': -73.9393171697085}, 'southwest': {'lat': 40.7601468697085, 'lng': -73.94201513029151}}}, 'icon': 'https://maps.gstatic.com/mapfiles/place_api/icons/v1/png_71/restaurant-71.png', 'icon_background_color': '#FF9E67', 'icon_mask_base_uri': 'https://maps.gstatic.com/mapfiles/place_api/icons/v2/restaurant_pinlet', 'name': 'Neels Pizza & Pasta', 'opening_hours': {'open_now': True}, 'photos': [{'height': 4032, 'html_attributions': ['<a href=\"https://maps.google.com/maps/contrib/102001068117062749198\">kj kj</a>'], 'photo_reference': 'AdCG2DNfs10PI1vuvjdl3h4APfI3rhdfJlZvkYtGRdilZv11gdsvM74y_aSx3kqkp2u7T6m1GhgKtYE2oQh4XlKvtXGt2Q4lBIDgge1AZY-SDBRtPlZnFpZe-6DXT6XLkVZZt_TfFddpuaqBdqqKhGgjtDHNX66cuV_ag_jfNsn8paGVHx0U', 'width': 3024}], 'place_id': 'ChIJ_0znNMxYwokRXAfK9-JwJzg', 'plus_code': {'compound_code': 'Q365+JQ Astoria, Queens, NY, USA', 'global_code': '87G8Q365+JQ'}, 'price_level': 2, 'rating': 4, 'reference': 'ChIJ_0znNMxYwokRXAfK9-JwJzg', 'scope': 'GOOGLE', 'types': ['restaurant', 'food', 'point_of_interest', 'establishment'], 'user_ratings_total': 190, 'vicinity': '10-01 36th Avenue, Astoria'}, {'business_status': 'OPERATIONAL', 'geometry': {'location': {'lat': 40.7460847, 'lng': -73.94584569999999}, 'viewport': {'northeast': {'lat': 40.74738233029149, 'lng': -73.94437106970848}, 'southwest': {'lat': 40.74468436970849, 'lng': -73.9470690302915}}}, 'icon': 'https://maps.gstatic.com/mapfiles/place_api/icons/v1/png_71/restaurant-71.png', 'icon_background_color': '#FF9E67', 'icon_mask_base_uri': 'https://maps.gstatic.com/mapfiles/place_api/icons/v2/restaurant_pinlet', 'name': 'Court Square Diner', 'opening_hours': {'open_now': True}, 'photos': [{'height': 3072, 'html_attributions': ['<a href=\"https://maps.google.com/maps/contrib/110909343166910955967\">mack McCurry</a>'], 'photo_reference': 'AdCG2DP6lk51O-QeCkW_2PuhLhpYqA4vSu9t9IpsZOT3KQQQd_Wnfk_VMPnvCg-h4VFcks1fkDeSISDA1BhoGVjqKSnCpaVgt8-wxRqPLaTxkMaJxD2t3VX7K4Vwq0sad_C38UZHcffZglqs6mE_jg6NmLZxHkk7H-1bA_4AmQhwrBKD0vTB', 'width': 4080}], 'place_id': 'ChIJN6wFwihZwokRMtxwzGii9PI', 'plus_code': {'compound_code': 'P3W3+CM Long Island City, Queens, NY, USA', 'global_code': '87G8P3W3+CM'}, 'price_level': 1, 'rating': 4.4, 'reference': 'ChIJN6wFwihZwokRMtxwzGii9PI', 'scope': 'GOOGLE', 'types': ['restaurant', 'food', 'point_of_interest', 'establishment'], 'user_ratings_total': 3477, 'vicinity': '45-30 23rd Street, Long Island City'}, {'business_status': 'OPERATIONAL', 'geometry': {'location': {'lat': 40.74266679999999, 'lng': -73.9518057}, 'viewport': {'northeast': {'lat': 40.74410398029149, 'lng': -73.9505417697085}, 'southwest': {'lat': 40.74140601970849, 'lng': -73.9532397302915}}}, 'icon': 'https://maps.gstatic.com/mapfiles/place_api/icons/v1/png_71/restaurant-71.png', 'icon_background_color': '#FF9E67', 'icon_mask_base_uri': 'https://maps.gstatic.com/mapfiles/place_api/icons/v2/restaurant_pinlet', 'name': \"Manetta's Ristorante\", 'opening_hours': {'open_now': True}, 'photos': [{'height': 925, 'html_attributions': ['<a href=\"https://maps.google.com/maps/contrib/114707522175427350567\">Manetta&#39;s Ristorante</a>'], 'photo_reference': 'AdCG2DNAWF_eTcjBZxMS26PRaf7_d6o6hWwHqWVpVLiChyc-nhH8t6SpImVLtWYy3tEpahuVM7gFz-NF1ryleiJzaWyGeOGwkGFK1v1kMozG9TnVx-jdxeHKQV5IBRZOriyzmq_BSBFpgnWPDgdZTqNHeQxSziqAUAPae86A7OsukepgfWuE', 'width': 1391}], 'place_id': 'ChIJJVkc8iRZwokRA-3qv5OZmsg', 'plus_code': {'compound_code': 'P2VX+37 Long Island City, Queens, NY, USA', 'global_code': '87G8P2VX+37'}, 'price_level': 2, 'rating': 4.6, 'reference': 'ChIJJVkc8iRZwokRA-3qv5OZmsg', 'scope': 'GOOGLE', 'types': ['restaurant', 'food', 'store', 'point_of_interest', 'establishment'], 'user_ratings_total': 815, 'vicinity': '10-76 Jackson Avenue, Long Island City'}, {'business_status': 'OPERATIONAL', 'geometry': {'location': {'lat': 40.7459954, 'lng': -73.95709939999999}, 'viewport': {'northeast': {'lat': 40.74728778029149, 'lng': -73.9556538697085}, 'southwest': {'lat': 40.74458981970849, 'lng': -73.9583518302915}}}, 'icon': 'https://maps.gstatic.com/mapfiles/place_api/icons/v1/png_71/restaurant-71.png', 'icon_background_color': '#FF9E67', 'icon_mask_base_uri': 'https://maps.gstatic.com/mapfiles/place_api/icons/v2/restaurant_pinlet', 'name': 'SHI', 'opening_hours': {'open_now': True}, 'photos': [{'height': 2736, 'html_attributions': ['<a href=\"https://maps.google.com/maps/contrib/111826663690279594159\">SHI</a>'], 'photo_reference': 'AdCG2DM2QKrOrLJbwTRRvPMeK1IHnzCqKjTIRA7Ja6mlIPitikjXTiBHFZb5nQvr7gHJTDuM_mNEg4xWN3QeXZ-iiB1nHnq0QE24TP1gBHRx62awG3Py4XuMQzt1XnIcKmDH9rHu6FENBhVu_NMeExzfGeqc0yQBTWrx01Zsiey8EUoqKiz4', 'width': 3518}], 'place_id': 'ChIJ3Yh5MCJZwokRn26xAVyciXg', 'plus_code': {'compound_code': 'P2WV+95 Long Island City, Queens, NY, USA', 'global_code': '87G8P2WV+95'}, 'price_level': 2, 'rating': 4.3, 'reference': 'ChIJ3Yh5MCJZwokRn26xAVyciXg', 'scope': 'GOOGLE', 'types': ['restaurant', 'food', 'point_of_interest', 'establishment'], 'user_ratings_total': 1365, 'vicinity': '4720 Center Boulevard, Long Island City'}, {'business_status': 'OPERATIONAL', 'geometry': {'location': {'lat': 40.7561689, 'lng': -73.92853579999999}, 'viewport': {'northeast': {'lat': 40.7574828302915, 'lng': -73.9272514197085}, 'southwest': {'lat': 40.7547848697085, 'lng': -73.9299493802915}}}, 'icon': 'https://maps.gstatic.com/mapfiles/place_api/icons/v1/png_71/bar-71.png', 'icon_background_color': '#FF9E67', 'icon_mask_base_uri': 'https://maps.gstatic.com/mapfiles/place_api/icons/v2/bar_pinlet', 'name': 'Mad Donkey Beer Bar & Grill', 'opening_hours': {'open_now': True}, 'photos': [{'height': 3456, 'html_attributions': ['<a href=\"https://maps.google.com/maps/contrib/116383074570113854818\">Drew barksdale</a>'], 'photo_reference': 'AdCG2DPRLwXs-nO90cItNrbKgce9xoeZbDJvDr93Jp2Nk38X1PtbxnoZD79CHRWo4KU59RQ9zM0UmofaQGawoo7Nvk-ngwRz7qBgV9cSn5cEcSfsZLByz5tIqxMQE7VwWFi4JGB7YBu5ugvZqJXI-fSU5ksQ81iIUd9qZteuwA27GELLxJeT', 'width': 4608}], 'place_id': 'ChIJXwfMPy5fwokRuz6hCTUpZ9o', 'plus_code': {'compound_code': 'Q34C+FH Astoria, Queens, NY, USA', 'global_code': '87G8Q34C+FH'}, 'price_level': 1, 'rating': 4.5, 'reference': 'ChIJXwfMPy5fwokRuz6hCTUpZ9o', 'scope': 'GOOGLE', 'types': ['bar', 'night_club', 'restaurant', 'food', 'point_of_interest', 'establishment'], 'user_ratings_total': 653, 'vicinity': '32-07 36th Avenue, Astoria'}, {'business_status': 'OPERATIONAL', 'geometry': {'location': {'lat': 40.7445755, 'lng': -73.9491317}, 'viewport': {'northeast': {'lat': 40.7459835302915, 'lng': -73.94771706970849}, 'southwest': {'lat': 40.7432855697085, 'lng': -73.95041503029151}}}, 'icon': 'https://maps.gstatic.com/mapfiles/place_api/icons/v1/png_71/restaurant-71.png', 'icon_background_color': '#FF9E67', 'icon_mask_base_uri': 'https://maps.gstatic.com/mapfiles/place_api/icons/v2/restaurant_pinlet', 'name': 'Manducatis', 'opening_hours': {'open_now': False}, 'photos': [{'height': 4000, 'html_attributions': ['<a href=\"https://maps.google.com/maps/contrib/112607975638002596865\">Jingjuan Qi</a>'], 'photo_reference': 'AdCG2DN6vfI6-uXbdLB3SzhCME4zkAtUgNFPRJfKCMPSg030Myt1Kjh5Xvo_ZX2Z-9X8WRYTmlQGgUwRYaYzeU_C-6e4WutMODfgJdtBy6AFa3aDkjRNQ658RLdiEi_XdMPmtkihFljQxfddTjhmFMWJlT2IGoKwaF8-nRuUf9zF5AX-4dgB', 'width': 3000}], 'place_id': 'ChIJEz0N7yVZwokRKrOYsmXkKSY', 'plus_code': {'compound_code': 'P3V2+R8 Long Island City, Queens, NY, USA', 'global_code': '87G8P3V2+R8'}, 'price_level': 2, 'rating': 4.6, 'reference': 'ChIJEz0N7yVZwokRKrOYsmXkKSY', 'scope': 'GOOGLE', 'types': ['restaurant', 'food', 'point_of_interest', 'establishment'], 'user_ratings_total': 416, 'vicinity': '13-27 Jackson Avenue, Long Island City'}, {'business_status': 'OPERATIONAL', 'geometry': {'location': {'lat': 40.7456274, 'lng': -73.9533009}, 'viewport': {'northeast': {'lat': 40.74696758029149, 'lng': -73.9518696697085}, 'southwest': {'lat': 40.74426961970849, 'lng': -73.9545676302915}}}, 'icon': 'https://maps.gstatic.com/mapfiles/place_api/icons/v1/png_71/restaurant-71.png', 'icon_background_color': '#FF9E67', 'icon_mask_base_uri': 'https://maps.gstatic.com/mapfiles/place_api/icons/v2/restaurant_pinlet', 'name': \"Petey's Burger\", 'opening_hours': {'open_now': True}, 'photos': [{'height': 3024, 'html_attributions': ['<a href=\"https://maps.google.com/maps/contrib/115969212826515306977\">Abigail Adamek</a>'], 'photo_reference': 'AdCG2DMBjAhJVhSW2zZv8nDRnSI2-7vS-DrxQovIt96DGeKPXRK_95ghXyPLxGQku2tuHza7PleOhOm4NzvtVKkBnICK1Opvy28T6Wx4anMdf7uryBLevPLVWGTvtFT6XLj4Vkn_Nayk3o5-FMt3W4IBQT2u90zmqNFwT5afOhvTe3VDbG9L', 'width': 4032}], 'place_id': 'ChIJQWQeBCRZwokRF3xFVa1cvOA', 'plus_code': {'compound_code': 'P2WW+7M Long Island City, Queens, NY, USA', 'global_code': '87G8P2WW+7M'}, 'price_level': 2, 'rating': 4.2, 'reference': 'ChIJQWQeBCRZwokRF3xFVa1cvOA', 'scope': 'GOOGLE', 'types': ['meal_delivery', 'restaurant', 'food', 'point_of_interest', 'establishment'], 'user_ratings_total': 663, 'vicinity': '46-46 Vernon Boulevard, Long Island City'}, {'business_status': 'CLOSED_TEMPORARILY', 'geometry': {'location': {'lat': 40.7543142, 'lng': -73.933622}, 'viewport': {'northeast': {'lat': 40.7557604802915, 'lng': -73.9322306697085}, 'southwest': {'lat': 40.7530625197085, 'lng': -73.93492863029151}}}, 'icon': 'https://maps.gstatic.com/mapfiles/place_api/icons/v1/png_71/restaurant-71.png', 'icon_background_color': '#FF9E67', 'icon_mask_base_uri': 'https://maps.gstatic.com/mapfiles/place_api/icons/v2/restaurant_pinlet', 'name': 'Good Taste', 'permanently_closed': True, 'photos': [{'height': 1440, 'html_attributions': ['<a href=\"https://maps.google.com/maps/contrib/110848838014002868939\">We are OCUS - 3</a>'], 'photo_reference': 'AdCG2DPgiCdXEwjf9-scDuA7Gkzs4NYWbVHg8oWKMutJ-qdeuQzRLxzbEqkzXVqqBpsvsRwxxKwjmO7qBlGedMLS_7G1fFhgj3r21OSfPCGyHd4XDL4o679RbkR6nkNWZdT3NZZOsRf8qYtSLxAjVD2wszEdLA1Q730UpOq0czkuXH__8NW4', 'width': 2560}], 'place_id': 'ChIJC3YA9CxfwokRigcKM5TNKj8', 'plus_code': {'compound_code': 'Q338+PH Astoria, Queens, NY, USA', 'global_code': '87G8Q338+PH'}, 'price_level': 1, 'rating': 3.7, 'reference': 'ChIJC3YA9CxfwokRigcKM5TNKj8', 'scope': 'GOOGLE', 'types': ['meal_delivery', 'restaurant', 'food', 'point_of_interest', 'establishment'], 'user_ratings_total': 133, 'vicinity': '3801 29th Street, Astoria'}, {'business_status': 'OPERATIONAL', 'geometry': {'location': {'lat': 40.7555972, 'lng': -73.9280278}, 'viewport': {'northeast': {'lat': 40.7570169802915, 'lng': -73.9266224197085}, 'southwest': {'lat': 40.7543190197085, 'lng': -73.92932038029151}}}, 'icon': 'https://maps.gstatic.com/mapfiles/place_api/icons/v1/png_71/restaurant-71.png', 'icon_background_color': '#FF9E67', 'icon_mask_base_uri': 'https://maps.gstatic.com/mapfiles/place_api/icons/v2/restaurant_pinlet', 'name': 'Cafe Triskell', 'opening_hours': {'open_now': False}, 'photos': [{'height': 2410, 'html_attributions': ['<a href=\"https://maps.google.com/maps/contrib/112594282001027619218\">Cafe Triskell</a>'], 'photo_reference': 'AdCG2DMDocUmwXTr6PJkQhI-fVa9THRwX2nWLHyJJFP9zVvcf3ucW75dOujfe0JIybKS29wm6-MXaps3deKjz17_EFJPSrqKNuzN7KjGKzq_m05eMv7155iNNNYrBIt_uA5bpu2lGcLH3G-SAjB89rAboSyTB4DX7Uv-sqoPBAkGUAlCm1jP', 'width': 4284}], 'place_id': 'ChIJ0T9xRi5fwokRaIuqYVfm5tU', 'plus_code': {'compound_code': 'Q34C+6Q Queens, NY, USA', 'global_code': '87G8Q34C+6Q'}, 'price_level': 2, 'rating': 4.6, 'reference': 'ChIJ0T9xRi5fwokRaIuqYVfm5tU', 'scope': 'GOOGLE', 'types': ['cafe', 'restaurant', 'food', 'point_of_interest', 'establishment'], 'user_ratings_total': 398, 'vicinity': '33-04 36th Avenue, Queens'}, {'business_status': 'OPERATIONAL', 'geometry': {'location': {'lat': 40.743192, 'lng': -73.95411899999999}, 'viewport': {'northeast': {'lat': 40.7445482302915, 'lng': -73.9526878697085}, 'southwest': {'lat': 40.7418502697085, 'lng': -73.9553858302915}}}, 'icon': 'https://maps.gstatic.com/mapfiles/place_api/icons/v1/png_71/restaurant-71.png', 'icon_background_color': '#FF9E67', 'icon_mask_base_uri': 'https://maps.gstatic.com/mapfiles/place_api/icons/v2/restaurant_pinlet', 'name': 'Tuk Tuk', 'opening_hours': {'open_now': True}, 'photos': [{'height': 3024, 'html_attributions': ['<a href=\"https://maps.google.com/maps/contrib/106022519392959286301\">Sylvester P. Lukasiewicz</a>'], 'photo_reference': 'AdCG2DMqNlLBLgu85Fi2VN-jxtj_cP86I2ylqtmJC9GE86-usc3QbodETxcuYPnXhH4eDOK-3ns8JdUqO8IOS0SlgYcnAW9VieNVpfaLwIOXOYD_qNkNYLkyc-fbj2ftv45ErLj0UYaJLomW_zaQxEqZwZjWKZFuEOLnhEXs7OFdHbvS7ST2', 'width': 4032}], 'place_id': 'ChIJdzA_eiNZwokRUYzjF1dcHko', 'plus_code': {'compound_code': 'P2VW+79 Long Island City, Queens, NY, USA', 'global_code': '87G8P2VW+79'}, 'price_level': 2, 'rating': 4.4, 'reference': 'ChIJdzA_eiNZwokRUYzjF1dcHko', 'scope': 'GOOGLE', 'types': ['meal_delivery', 'restaurant', 'food', 'point_of_interest', 'establishment'], 'user_ratings_total': 746, 'vicinity': '49-06 Vernon Boulevard, Long Island City'}, {'business_status': 'OPERATIONAL', 'geometry': {'location': {'lat': 40.75606729999999, 'lng': -73.928225}, 'viewport': {'northeast': {'lat': 40.7573531802915, 'lng': -73.9269326197085}, 'southwest': {'lat': 40.7546552197085, 'lng': -73.92963058029152}}}, 'icon': 'https://maps.gstatic.com/mapfiles/place_api/icons/v1/png_71/shopping-71.png', 'icon_background_color': '#4B96F3', 'icon_mask_base_uri': 'https://maps.gstatic.com/mapfiles/place_api/icons/v2/shoppingcart_pinlet', 'name': 'Rio Market Inc', 'opening_hours': {'open_now': True}, 'photos': [{'height': 1200, 'html_attributions': ['<a href=\"https://maps.google.com/maps/contrib/117955098063492162178\">Rio Market Inc</a>'], 'photo_reference': 'AdCG2DNfzbyNefwiKk9cW7Q_QdW7OhaBWmfthn146YyZ7gf_DrbfvilGbWZnI8x42l9_mS7IlXCqezy5Tx2uYLhbka9e4lIxSgRQQGv47DCHTs9rUvvV_TyVKnons0P6rtf1USDc8nrthai-pfJFchNu_mlrYrxR1a7CBjDh73zr-R1o7M_J', 'width': 1600}], 'place_id': 'ChIJk_srPy5fwokRc4JZPOT0EDM', 'plus_code': {'compound_code': 'Q34C+CP Astoria, Queens, NY, USA', 'global_code': '87G8Q34C+CP'}, 'rating': 4.5, 'reference': 'ChIJk_srPy5fwokRc4JZPOT0EDM', 'scope': 'GOOGLE', 'types': ['supermarket', 'grocery_or_supermarket', 'restaurant', 'food', 'store', 'point_of_interest', 'establishment'], 'user_ratings_total': 1455, 'vicinity': '32-15 36th Avenue, Astoria'}, {'business_status': 'OPERATIONAL', 'geometry': {'location': {'lat': 40.742391, 'lng': -73.9543966}, 'viewport': {'northeast': {'lat': 40.74372213029151, 'lng': -73.9529765697085}, 'southwest': {'lat': 40.74102416970851, 'lng': -73.9556745302915}}}, 'icon': 'https://maps.gstatic.com/mapfiles/place_api/icons/v1/png_71/restaurant-71.png', 'icon_background_color': '#FF9E67', 'icon_mask_base_uri': 'https://maps.gstatic.com/mapfiles/place_api/icons/v2/restaurant_pinlet', 'name': 'Tournesol', 'opening_hours': {'open_now': False}, 'photos': [{'height': 3024, 'html_attributions': ['<a href=\"https://maps.google.com/maps/contrib/105146849516864617727\">Tournesol</a>'], 'photo_reference': 'AdCG2DPrdc7dIIVnTyGTxnrRSNF2YY_K0CcGhjZhTZYOCK2rdPQ9iOlmRhzUuihNcVGn6emyqjeiXoOI34khNCyMDqV07hzS7tL312l1YRxh4zqCho1E2MUt9yLX9AGllopBgMJ2WWQCHvA9a6lxrwL835KoeUbm_DQGox8y9UzHJuwwl4ol', 'width': 4032}], 'place_id': 'ChIJ2zaeXSNZwokRKugqI9AMNjc', 'plus_code': {'compound_code': 'P2RW+X6 Long Island City, Queens, NY, USA', 'global_code': '87G8P2RW+X6'}, 'price_level': 2, 'rating': 4.4, 'reference': 'ChIJ2zaeXSNZwokRKugqI9AMNjc', 'scope': 'GOOGLE', 'types': ['restaurant', 'food', 'point_of_interest', 'establishment'], 'user_ratings_total': 617, 'vicinity': '50-12 Vernon Boulevard, Long Island City'}, {'business_status': 'OPERATIONAL', 'geometry': {'location': {'lat': 40.7425899, 'lng': -73.9538049}, 'viewport': {'northeast': {'lat': 40.74397618029149, 'lng': -73.95241991970848}, 'southwest': {'lat': 40.74127821970849, 'lng': -73.9551178802915}}}, 'icon': 'https://maps.gstatic.com/mapfiles/place_api/icons/v1/png_71/restaurant-71.png', 'icon_background_color': '#FF9E67', 'icon_mask_base_uri': 'https://maps.gstatic.com/mapfiles/place_api/icons/v2/restaurant_pinlet', 'name': 'Café Henri', 'opening_hours': {'open_now': True}, 'photos': [{'height': 1536, 'html_attributions': ['<a href=\"https://maps.google.com/maps/contrib/106285192528850904499\">Café Henri</a>'], 'photo_reference': 'AdCG2DN8u4hHD05VHO1mUceneGU__O1DVjdkOqRG4BUouWFwdG2frO7jEsK6sQRv1bsywQESspistIyCWVE-ViYBYI_IpN8DRojJOpdLlQlemUvDuLnjaTBnqhPANqw4zloRZ6DahQpeAXFX20dJUXRSPfMrRuS6W--uzJpthKZxvjv98dLT', 'width': 2048}], 'place_id': 'ChIJI8QZECNZwokRJ6nKtIJ_gCw', 'plus_code': {'compound_code': 'P2VW+2F Long Island City, Queens, NY, USA', 'global_code': '87G8P2VW+2F'}, 'price_level': 2, 'rating': 4.5, 'reference': 'ChIJI8QZECNZwokRJ6nKtIJ_gCw', 'scope': 'GOOGLE', 'types': ['bar', 'restaurant', 'food', 'point_of_interest', 'establishment'], 'user_ratings_total': 1018, 'vicinity': '1010 50th Avenue, Long Island City'}, {'business_status': 'OPERATIONAL', 'geometry': {'location': {'lat': 40.7483767, 'lng': -73.94234589999999}, 'viewport': {'northeast': {'lat': 40.7497851302915, 'lng': -73.9410832697085}, 'southwest': {'lat': 40.7470871697085, 'lng': -73.9437812302915}}}, 'icon': 'https://maps.gstatic.com/mapfiles/place_api/icons/v1/png_71/restaurant-71.png', 'icon_background_color': '#FF9E67', 'icon_mask_base_uri': 'https://maps.gstatic.com/mapfiles/place_api/icons/v2/restaurant_pinlet', 'name': 'M. Wells', 'opening_hours': {'open_now': False}, 'photos': [{'height': 2049, 'html_attributions': ['<a href=\"https://maps.google.com/maps/contrib/118192413960145126825\">M. Wells</a>'], 'photo_reference': 'AdCG2DOtKGOJveq1Xc0FQQpU91tHKt_Gu6AoK08UstkPRCs1lSvprWfmzpZrSAVj7I3GwT5FPEbmEGLcq47XqLFudXpFmyyWb23XKfs3JCSDDhIx2-_VS2du0Y20og2aSPsgxIVJqT9ui8XkT6VaVql2R4AE7RXarPeBmRae7rrxITGf96la', 'width': 1537}], 'place_id': 'ChIJGQFa8SlZwokRjkygUnetCuc', 'plus_code': {'compound_code': 'P3X5+93 Long Island City, Queens, NY, USA', 'global_code': '87G8P3X5+93'}, 'price_level': 3, 'rating': 4.4, 'reference': 'ChIJGQFa8SlZwokRjkygUnetCuc', 'scope': 'GOOGLE', 'types': ['bar', 'restaurant', 'food', 'point_of_interest', 'establishment'], 'user_ratings_total': 611, 'vicinity': '43-15 Crescent Street, Long Island City'}, {'business_status': 'OPERATIONAL', 'geometry': {'location': {'lat': 40.74340629999999, 'lng': -73.95438089999999}, 'viewport': {'northeast': {'lat': 40.74481238029149, 'lng': -73.9530100197085}, 'southwest': {'lat': 40.74211441970849, 'lng': -73.9557079802915}}}, 'icon': 'https://maps.gstatic.com/mapfiles/place_api/icons/v1/png_71/restaurant-71.png', 'icon_background_color': '#FF9E67', 'icon_mask_base_uri': 'https://maps.gstatic.com/mapfiles/place_api/icons/v2/restaurant_pinlet', 'name': 'Casa Enrique', 'opening_hours': {'open_now': False}, 'photos': [{'height': 1188, 'html_attributions': ['<a href=\"https://maps.google.com/maps/contrib/117743134402860826329\">Casa Enrique</a>'], 'photo_reference': 'AdCG2DNnICTcm44zmHrsXwWtklAr0yhTSEYmv4Wy19CUWtoeKPGLIRz3crxR76F8Vt_v31ixDMVB5E3h2te_1Wv12TTmT7vXU3ZMjOSuFQPfeFeMUx_PEYlnM2aJLAPxb8AsVQoY2z_2cHN6ErIaTKRD_YtAEiATaGVsXNVHWr1bBDDtjOk', 'width': 2048}], 'place_id': 'ChIJv4bbdSNZwokRCgKfDGF8az8', 'plus_code': {'compound_code': 'P2VW+96 Long Island City, Queens, NY, USA', 'global_code': '87G8P2VW+96'}, 'price_level': 2, 'rating': 4.6, 'reference': 'ChIJv4bbdSNZwokRCgKfDGF8az8', 'scope': 'GOOGLE', 'types': ['bar', 'restaurant', 'food', 'point_of_interest', 'establishment'], 'user_ratings_total': 2700, 'vicinity': '5-48 49th Avenue, Long Island City'}, {'business_status': 'OPERATIONAL', 'geometry': {'location': {'lat': 40.7446006, 'lng': -73.9533343}, 'viewport': {'northeast': {'lat': 40.7459601302915, 'lng': -73.95205511970849}, 'southwest': {'lat': 40.7432621697085, 'lng': -73.9547530802915}}}, 'icon': 'https://maps.gstatic.com/mapfiles/place_api/icons/v1/png_71/restaurant-71.png', 'icon_background_color': '#FF9E67', 'icon_mask_base_uri': 'https://maps.gstatic.com/mapfiles/place_api/icons/v2/restaurant_pinlet', 'name': 'Madera', 'opening_hours': {'open_now': True}, 'photos': [{'height': 4160, 'html_attributions': ['<a href=\"https://maps.google.com/maps/contrib/116126344557669648774\">Nicole M</a>'], 'photo_reference': 'AdCG2DOFRGY4htxfR9YkKT6mrFtoRLJpxlvd6PvafDu0EPdEMncBlBr95Ce9hVcNOhd0ta0YO6UuIGIs1HOaVFFxBqf0ATdwtRWznSgTh51PUQC_cc-_Qgw0IzBJmCqRyGlRY0LYhj0I2YNcXlXsgdQDH4GdyqZAY0kfl7qZzF--w6c69dF4', 'width': 3120}], 'place_id': 'ChIJm9ALcyRZwokRiv6uOzTcE0Y', 'plus_code': {'compound_code': 'P2VW+RM Long Island City, Queens, NY, USA', 'global_code': '87G8P2VW+RM'}, 'price_level': 2, 'rating': 4.3, 'reference': 'ChIJm9ALcyRZwokRiv6uOzTcE0Y', 'scope': 'GOOGLE', 'types': ['bar', 'restaurant', 'food', 'point_of_interest', 'establishment'], 'user_ratings_total': 739, 'vicinity': '47-29 Vernon Boulevard, Long Island City'}], 'status': 'OK'}\n"
     ]
    }
   ],
   "source": [
    "print(response.json())"
   ]
  },
  {
   "cell_type": "markdown",
   "id": "73199e10-150b-4109-b0c0-544198e43737",
   "metadata": {},
   "source": [
    "## Example 1: Google Places API"
   ]
  },
  {
   "cell_type": "code",
   "execution_count": 18,
   "id": "a9efe441-458c-4a41-adc3-114594c27e66",
   "metadata": {},
   "outputs": [],
   "source": [
    "import time"
   ]
  },
  {
   "cell_type": "code",
   "execution_count": 19,
   "id": "fa61a21e-9886-414d-8d8b-cba599cbe468",
   "metadata": {},
   "outputs": [
    {
     "name": "stdout",
     "output_type": "stream",
     "text": [
      "  business_status                                               icon  \\\n",
      "0     OPERATIONAL  https://maps.gstatic.com/mapfiles/place_api/ic...   \n",
      "1     OPERATIONAL  https://maps.gstatic.com/mapfiles/place_api/ic...   \n",
      "2     OPERATIONAL  https://maps.gstatic.com/mapfiles/place_api/ic...   \n",
      "3     OPERATIONAL  https://maps.gstatic.com/mapfiles/place_api/ic...   \n",
      "4     OPERATIONAL  https://maps.gstatic.com/mapfiles/place_api/ic...   \n",
      "\n",
      "  icon_background_color                                 icon_mask_base_uri  \\\n",
      "0               #FF9E67  https://maps.gstatic.com/mapfiles/place_api/ic...   \n",
      "1               #FF9E67  https://maps.gstatic.com/mapfiles/place_api/ic...   \n",
      "2               #FF9E67  https://maps.gstatic.com/mapfiles/place_api/ic...   \n",
      "3               #FF9E67  https://maps.gstatic.com/mapfiles/place_api/ic...   \n",
      "4               #FF9E67  https://maps.gstatic.com/mapfiles/place_api/ic...   \n",
      "\n",
      "            name                                             photos  \\\n",
      "0  Fumo Kips Bay  [{'height': 3072, 'html_attributions': ['<a hr...   \n",
      "1         Upland  [{'height': 660, 'html_attributions': ['<a hre...   \n",
      "2     Kitchen 46  [{'height': 1333, 'html_attributions': ['<a hr...   \n",
      "3      Carmine's  [{'height': 3840, 'html_attributions': ['<a hr...   \n",
      "4       IL Punto  [{'height': 2403, 'html_attributions': ['<a hr...   \n",
      "\n",
      "                      place_id  price_level  rating  \\\n",
      "0  ChIJR0DxVQhZwokRY4vlDg_TZMI          2.0     4.6   \n",
      "1  ChIJWVD7FadZwokRs_pS6XY7VOU          3.0     4.5   \n",
      "2  ChIJmX1a4alZwokROmk9tCzmJbQ          NaN     4.8   \n",
      "3  ChIJR9So-lRYwokRX1xEjA0rChA          2.0     4.5   \n",
      "4  ChIJw1QgWK1ZwokRnOR94NZ1i8w          3.0     4.6   \n",
      "\n",
      "                     reference  ...                  vicinity  \\\n",
      "0  ChIJR0DxVQhZwokRY4vlDg_TZMI  ...     415 3rd Ave, New York   \n",
      "1  ChIJWVD7FadZwokRs_pS6XY7VOU  ...  345 Park Ave S, New York   \n",
      "2  ChIJmX1a4alZwokROmk9tCzmJbQ  ...   343 W 46th St, New York   \n",
      "3  ChIJR9So-lRYwokRX1xEjA0rChA  ...   200 W 44th St, New York   \n",
      "4  ChIJw1QgWK1ZwokRnOR94NZ1i8w  ...     507 9th Ave, New York   \n",
      "\n",
      "  geometry.location.lat  geometry.location.lng  \\\n",
      "0             40.742588             -73.980093   \n",
      "1             40.741931             -73.984644   \n",
      "2             40.760587             -73.989524   \n",
      "3             40.757498             -73.986654   \n",
      "4             40.756175             -73.994624   \n",
      "\n",
      "  geometry.viewport.northeast.lat  geometry.viewport.northeast.lng  \\\n",
      "0                       40.743927                       -73.978825   \n",
      "1                       40.743259                       -73.983326   \n",
      "2                       40.761901                       -73.988205   \n",
      "3                       40.758912                       -73.985325   \n",
      "4                       40.757429                       -73.993271   \n",
      "\n",
      "   geometry.viewport.southwest.lat  geometry.viewport.southwest.lng  \\\n",
      "0                        40.741227                       -73.981524   \n",
      "1                        40.740560                       -73.986026   \n",
      "2                        40.759201                       -73.990905   \n",
      "3                        40.756212                       -73.988024   \n",
      "4                        40.754730                       -73.995971   \n",
      "\n",
      "   opening_hours.open_now  plus_code.compound_code  plus_code.global_code  \n",
      "0                    True         P2V9+2X New York            87G8P2V9+2X  \n",
      "1                    True         P2R8+Q4 New York            87G8P2R8+Q4  \n",
      "2                    True         Q266+65 New York            87G8Q266+65  \n",
      "3                    True         Q247+X8 New York            87G8Q247+X8  \n",
      "4                    True         Q244+F5 New York            87G8Q244+F5  \n",
      "\n",
      "[5 rows x 23 columns]\n"
     ]
    }
   ],
   "source": [
    "# Google Places API Key\n",
    "google_api_key = os.getenv(\"GOOGLE_API_KEY\")\n",
    "\n",
    "# Function to get places data\n",
    "def get_google_places_data(query, location, radius, api_key, num_results=10):\n",
    "    url = \"https://maps.googleapis.com/maps/api/place/nearbysearch/json\"\n",
    "    params = {\n",
    "        \"location\": location,     # e.g., \"40.748817,-73.985428\" (NYC example)\n",
    "        \"radius\": radius,         # e.g., 1500 meters\n",
    "        \"keyword\": query,         # search term, like \"restaurant\"\n",
    "        \"key\": api_key\n",
    "    }\n",
    "\n",
    "    all_results = []\n",
    "    while len(all_results) < num_results:\n",
    "        response = requests.get(url, params=params)\n",
    "        data = response.json()\n",
    "        results = data.get(\"results\", [])\n",
    "        all_results.extend(results)\n",
    "        \n",
    "        # Pagination: Go to next page if more results are available\n",
    "        if \"next_page_token\" in data:\n",
    "            params[\"pagetoken\"] = data[\"next_page_token\"]\n",
    "            time.sleep(2)  # Delay for token to activate\n",
    "        else:\n",
    "            break\n",
    "\n",
    "    return all_results[:num_results]  # Limit to requested number of results\n",
    "\n",
    "# Usage example\n",
    "location = \"40.748817,-73.985428\"  # Example coordinates for New York City\n",
    "radius = 1500  # Meters\n",
    "query = \"restaurant\"\n",
    "google_places_data = get_google_places_data(query, location, radius, google_api_key)\n",
    "\n",
    "# Save data as JSON\n",
    "with open(\"google_places_data.json\", \"w\") as f:\n",
    "    json.dump(google_places_data, f, indent=4)\n",
    "\n",
    "# Optional: Convert to DataFrame for easier analysis\n",
    "google_places_df = pd.json_normalize(google_places_data)\n",
    "print(google_places_df.head())"
   ]
  },
  {
   "cell_type": "markdown",
   "id": "00804052-67bf-4fbe-8f98-e4997ae5dc11",
   "metadata": {},
   "source": [
    "## Example 2: Yelp Fusion API"
   ]
  },
  {
   "cell_type": "code",
   "execution_count": 2,
   "id": "310e5863-869a-4160-a423-dd6c8f3d74a2",
   "metadata": {},
   "outputs": [
    {
     "name": "stdout",
     "output_type": "stream",
     "text": [
      "Empty DataFrame\n",
      "Columns: []\n",
      "Index: []\n"
     ]
    }
   ],
   "source": [
    "# Yelp API Key\n",
    "yelp_api_key = \"YOUR_YELP_API_KEY\"\n",
    "\n",
    "# Function to get Yelp data\n",
    "def get_yelp_data(query, location, num_results=10):\n",
    "    url = \"https://api.yelp.com/v3/businesses/search\"\n",
    "    headers = {\n",
    "        \"Authorization\": f\"Bearer {yelp_api_key}\"\n",
    "    }\n",
    "    params = {\n",
    "        \"term\": query,         # e.g., \"restaurant\"\n",
    "        \"location\": location,  # e.g., \"New York, NY\"\n",
    "        \"limit\": 50            # max limit per request\n",
    "    }\n",
    "\n",
    "    all_results = []\n",
    "    offset = 0\n",
    "    while len(all_results) < num_results:\n",
    "        params[\"offset\"] = offset\n",
    "        response = requests.get(url, headers=headers, params=params)\n",
    "        data = response.json()\n",
    "        businesses = data.get(\"businesses\", [])\n",
    "        all_results.extend(businesses)\n",
    "\n",
    "        # Yelp returns a maximum of 1000 results; stop if limit is hit\n",
    "        if len(businesses) == 0 or len(all_results) >= num_results:\n",
    "            break\n",
    "        offset += len(businesses)\n",
    "\n",
    "    return all_results[:num_results]\n",
    "\n",
    "# Usage example\n",
    "location = \"New York, NY\"  # Location for Yelp search\n",
    "query = \"restaurant\"\n",
    "yelp_data = get_yelp_data(query, location)\n",
    "\n",
    "# Save data as JSON\n",
    "with open(\"yelp_data.json\", \"w\") as f:\n",
    "    json.dump(yelp_data, f, indent=4)\n",
    "\n",
    "# Optional: Convert to DataFrame\n",
    "yelp_df = pd.json_normalize(yelp_data)\n",
    "print(yelp_df.head())\n"
   ]
  },
  {
   "cell_type": "markdown",
   "id": "7969cb2b-ec31-4450-b00a-a044ea9397b6",
   "metadata": {},
   "source": [
    "## 3. Combine and Analyze the Data"
   ]
  },
  {
   "cell_type": "code",
   "execution_count": 3,
   "id": "fa899e0e-351d-4ee7-b0d3-e117a23561e9",
   "metadata": {},
   "outputs": [
    {
     "ename": "FileNotFoundError",
     "evalue": "[Errno 2] No such file or directory: 'google_places_data.json'",
     "output_type": "error",
     "traceback": [
      "\u001b[0;31m---------------------------------------------------------------------------\u001b[0m",
      "\u001b[0;31mFileNotFoundError\u001b[0m                         Traceback (most recent call last)",
      "Input \u001b[0;32mIn [3]\u001b[0m, in \u001b[0;36m<cell line: 2>\u001b[0;34m()\u001b[0m\n\u001b[1;32m      1\u001b[0m \u001b[38;5;66;03m# Load data if already saved as JSON\u001b[39;00m\n\u001b[0;32m----> 2\u001b[0m \u001b[38;5;28;01mwith\u001b[39;00m \u001b[38;5;28;43mopen\u001b[39;49m\u001b[43m(\u001b[49m\u001b[38;5;124;43m\"\u001b[39;49m\u001b[38;5;124;43mgoogle_places_data.json\u001b[39;49m\u001b[38;5;124;43m\"\u001b[39;49m\u001b[43m,\u001b[49m\u001b[43m \u001b[49m\u001b[38;5;124;43m\"\u001b[39;49m\u001b[38;5;124;43mr\u001b[39;49m\u001b[38;5;124;43m\"\u001b[39;49m\u001b[43m)\u001b[49m \u001b[38;5;28;01mas\u001b[39;00m f:\n\u001b[1;32m      3\u001b[0m     google_places_data \u001b[38;5;241m=\u001b[39m json\u001b[38;5;241m.\u001b[39mload(f)\n\u001b[1;32m      5\u001b[0m \u001b[38;5;28;01mwith\u001b[39;00m \u001b[38;5;28mopen\u001b[39m(\u001b[38;5;124m\"\u001b[39m\u001b[38;5;124myelp_data.json\u001b[39m\u001b[38;5;124m\"\u001b[39m, \u001b[38;5;124m\"\u001b[39m\u001b[38;5;124mr\u001b[39m\u001b[38;5;124m\"\u001b[39m) \u001b[38;5;28;01mas\u001b[39;00m f:\n",
      "\u001b[0;31mFileNotFoundError\u001b[0m: [Errno 2] No such file or directory: 'google_places_data.json'"
     ]
    }
   ],
   "source": [
    "# Load data if already saved as JSON\n",
    "with open(\"google_places_data.json\", \"r\") as f:\n",
    "    google_places_data = json.load(f)\n",
    "\n",
    "with open(\"yelp_data.json\", \"r\") as f:\n",
    "    yelp_data = json.load(f)\n",
    "\n",
    "# Convert both to DataFrames\n",
    "google_df = pd.json_normalize(google_places_data)\n",
    "yelp_df = pd.json_normalize(yelp_data)\n",
    "\n",
    "# Sample merge based on business name (requires cleaning and deduplication)\n",
    "combined_df = pd.merge(google_df, yelp_df, on=\"name\", suffixes=(\"_google\", \"_yelp\"))\n",
    "\n",
    "print(combined_df.head())\n"
   ]
  },
  {
   "cell_type": "markdown",
   "id": "786850ee-30d7-4a9e-9988-a75e9a136648",
   "metadata": {},
   "source": [
    "Additional Considerations\n",
    "Rate Limiting: Both APIs impose limits on request rates; handle this by implementing retries and backoffs.\n",
    "Cost Management: Limit the number of results by adjusting search radius, query, and request frequency to stay within free API usage limits.\n",
    "Data Quality: Data from each API may have slight differences in business names or formats, so consider preprocessing (e.g., fuzzy matching) for accurate deduplication.\n",
    "This setup allows you to collect, analyze, and visualize business data, which can serve as the foundation for building insights into local business popularity and traffic trends.\n",
    "\n",
    "\n",
    "\n",
    "\n",
    "\n",
    "\n"
   ]
  },
  {
   "cell_type": "code",
   "execution_count": null,
   "id": "296fda44-759e-41a7-9ee5-81be0561896f",
   "metadata": {},
   "outputs": [],
   "source": []
  }
 ],
 "metadata": {
  "kernelspec": {
   "display_name": "Python (3.11)",
   "language": "python",
   "name": "your_custom_kernel_name"
  },
  "language_info": {
   "codemirror_mode": {
    "name": "ipython",
    "version": 3
   },
   "file_extension": ".py",
   "mimetype": "text/x-python",
   "name": "python",
   "nbconvert_exporter": "python",
   "pygments_lexer": "ipython3",
   "version": "3.10.2"
  }
 },
 "nbformat": 4,
 "nbformat_minor": 5
}

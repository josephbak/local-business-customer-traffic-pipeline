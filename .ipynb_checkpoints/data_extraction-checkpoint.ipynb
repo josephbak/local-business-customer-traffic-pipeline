{
 "cells": [
  {
   "cell_type": "code",
   "execution_count": 3,
   "id": "5d13a738-1a27-4140-aafc-29bdee71213c",
   "metadata": {},
   "outputs": [],
   "source": [
    "import requests\n",
    "import json\n",
    "import pandas as pd\n",
    "import os\n",
    "from dotenv import load_dotenv"
   ]
  },
  {
   "cell_type": "code",
   "execution_count": 4,
   "id": "674c2146-1ee0-4dad-9873-e90e04a35999",
   "metadata": {},
   "outputs": [
    {
     "data": {
      "text/plain": [
       "True"
      ]
     },
     "execution_count": 4,
     "metadata": {},
     "output_type": "execute_result"
    }
   ],
   "source": [
    "load_dotenv()  # Load environment variables from .env file"
   ]
  },
  {
   "cell_type": "markdown",
   "id": "73199e10-150b-4109-b0c0-544198e43737",
   "metadata": {},
   "source": [
    "## Example 1: Google Places API"
   ]
  },
  {
   "cell_type": "code",
   "execution_count": 1,
   "id": "fa61a21e-9886-414d-8d8b-cba599cbe468",
   "metadata": {},
   "outputs": [
    {
     "ename": "NameError",
     "evalue": "name 'requests' is not defined",
     "output_type": "error",
     "traceback": [
      "\u001b[0;31m---------------------------------------------------------------------------\u001b[0m",
      "\u001b[0;31mNameError\u001b[0m                                 Traceback (most recent call last)",
      "Input \u001b[0;32mIn [1]\u001b[0m, in \u001b[0;36m<cell line: 34>\u001b[0;34m()\u001b[0m\n\u001b[1;32m     32\u001b[0m radius \u001b[38;5;241m=\u001b[39m \u001b[38;5;241m1500\u001b[39m  \u001b[38;5;66;03m# Meters\u001b[39;00m\n\u001b[1;32m     33\u001b[0m query \u001b[38;5;241m=\u001b[39m \u001b[38;5;124m\"\u001b[39m\u001b[38;5;124mrestaurant\u001b[39m\u001b[38;5;124m\"\u001b[39m\n\u001b[0;32m---> 34\u001b[0m google_places_data \u001b[38;5;241m=\u001b[39m \u001b[43mget_google_places_data\u001b[49m\u001b[43m(\u001b[49m\u001b[43mquery\u001b[49m\u001b[43m,\u001b[49m\u001b[43m \u001b[49m\u001b[43mlocation\u001b[49m\u001b[43m,\u001b[49m\u001b[43m \u001b[49m\u001b[43mradius\u001b[49m\u001b[43m,\u001b[49m\u001b[43m \u001b[49m\u001b[43mgoogle_api_key\u001b[49m\u001b[43m)\u001b[49m\n\u001b[1;32m     36\u001b[0m \u001b[38;5;66;03m# Save data as JSON\u001b[39;00m\n\u001b[1;32m     37\u001b[0m \u001b[38;5;28;01mwith\u001b[39;00m \u001b[38;5;28mopen\u001b[39m(\u001b[38;5;124m\"\u001b[39m\u001b[38;5;124mgoogle_places_data.json\u001b[39m\u001b[38;5;124m\"\u001b[39m, \u001b[38;5;124m\"\u001b[39m\u001b[38;5;124mw\u001b[39m\u001b[38;5;124m\"\u001b[39m) \u001b[38;5;28;01mas\u001b[39;00m f:\n",
      "Input \u001b[0;32mIn [1]\u001b[0m, in \u001b[0;36mget_google_places_data\u001b[0;34m(query, location, radius, api_key, num_results)\u001b[0m\n\u001b[1;32m     14\u001b[0m all_results \u001b[38;5;241m=\u001b[39m []\n\u001b[1;32m     15\u001b[0m \u001b[38;5;28;01mwhile\u001b[39;00m \u001b[38;5;28mlen\u001b[39m(all_results) \u001b[38;5;241m<\u001b[39m num_results:\n\u001b[0;32m---> 16\u001b[0m     response \u001b[38;5;241m=\u001b[39m \u001b[43mrequests\u001b[49m\u001b[38;5;241m.\u001b[39mget(url, params\u001b[38;5;241m=\u001b[39mparams)\n\u001b[1;32m     17\u001b[0m     data \u001b[38;5;241m=\u001b[39m response\u001b[38;5;241m.\u001b[39mjson()\n\u001b[1;32m     18\u001b[0m     results \u001b[38;5;241m=\u001b[39m data\u001b[38;5;241m.\u001b[39mget(\u001b[38;5;124m\"\u001b[39m\u001b[38;5;124mresults\u001b[39m\u001b[38;5;124m\"\u001b[39m, [])\n",
      "\u001b[0;31mNameError\u001b[0m: name 'requests' is not defined"
     ]
    }
   ],
   "source": [
    "# Google Places API Key\n",
    "google_api_key = os.getenv(\"GOOGLE_API_KEY\")\n",
    "\n",
    "# Function to get places data\n",
    "def get_google_places_data(query, location, radius, api_key, num_results=10):\n",
    "    url = \"https://maps.googleapis.com/maps/api/place/nearbysearch/json\"\n",
    "    params = {\n",
    "        \"location\": location,     # e.g., \"40.748817,-73.985428\" (NYC example)\n",
    "        \"radius\": radius,         # e.g., 1500 meters\n",
    "        \"keyword\": query,         # search term, like \"restaurant\"\n",
    "        \"key\": api_key\n",
    "    }\n",
    "\n",
    "    all_results = []\n",
    "    while len(all_results) < num_results:\n",
    "        response = requests.get(url, params=params)\n",
    "        data = response.json()\n",
    "        results = data.get(\"results\", [])\n",
    "        all_results.extend(results)\n",
    "        \n",
    "        # Pagination: Go to next page if more results are available\n",
    "        if \"next_page_token\" in data:\n",
    "            params[\"pagetoken\"] = data[\"next_page_token\"]\n",
    "            time.sleep(2)  # Delay for token to activate\n",
    "        else:\n",
    "            break\n",
    "\n",
    "    return all_results[:num_results]  # Limit to requested number of results\n",
    "\n",
    "# Usage example\n",
    "location = \"40.748817,-73.985428\"  # Example coordinates for New York City\n",
    "radius = 1500  # Meters\n",
    "query = \"restaurant\"\n",
    "google_places_data = get_google_places_data(query, location, radius, google_api_key)\n",
    "\n",
    "# Save data as JSON\n",
    "with open(\"google_places_data.json\", \"w\") as f:\n",
    "    json.dump(google_places_data, f, indent=4)\n",
    "\n",
    "# Optional: Convert to DataFrame for easier analysis\n",
    "google_places_df = pd.json_normalize(google_places_data)\n",
    "print(google_places_df.head())"
   ]
  },
  {
   "cell_type": "markdown",
   "id": "00804052-67bf-4fbe-8f98-e4997ae5dc11",
   "metadata": {},
   "source": [
    "## Example 2: Yelp Fusion API"
   ]
  },
  {
   "cell_type": "code",
   "execution_count": 2,
   "id": "310e5863-869a-4160-a423-dd6c8f3d74a2",
   "metadata": {},
   "outputs": [
    {
     "name": "stdout",
     "output_type": "stream",
     "text": [
      "Empty DataFrame\n",
      "Columns: []\n",
      "Index: []\n"
     ]
    }
   ],
   "source": [
    "# Yelp API Key\n",
    "yelp_api_key = \"YOUR_YELP_API_KEY\"\n",
    "\n",
    "# Function to get Yelp data\n",
    "def get_yelp_data(query, location, num_results=10):\n",
    "    url = \"https://api.yelp.com/v3/businesses/search\"\n",
    "    headers = {\n",
    "        \"Authorization\": f\"Bearer {yelp_api_key}\"\n",
    "    }\n",
    "    params = {\n",
    "        \"term\": query,         # e.g., \"restaurant\"\n",
    "        \"location\": location,  # e.g., \"New York, NY\"\n",
    "        \"limit\": 50            # max limit per request\n",
    "    }\n",
    "\n",
    "    all_results = []\n",
    "    offset = 0\n",
    "    while len(all_results) < num_results:\n",
    "        params[\"offset\"] = offset\n",
    "        response = requests.get(url, headers=headers, params=params)\n",
    "        data = response.json()\n",
    "        businesses = data.get(\"businesses\", [])\n",
    "        all_results.extend(businesses)\n",
    "\n",
    "        # Yelp returns a maximum of 1000 results; stop if limit is hit\n",
    "        if len(businesses) == 0 or len(all_results) >= num_results:\n",
    "            break\n",
    "        offset += len(businesses)\n",
    "\n",
    "    return all_results[:num_results]\n",
    "\n",
    "# Usage example\n",
    "location = \"New York, NY\"  # Location for Yelp search\n",
    "query = \"restaurant\"\n",
    "yelp_data = get_yelp_data(query, location)\n",
    "\n",
    "# Save data as JSON\n",
    "with open(\"yelp_data.json\", \"w\") as f:\n",
    "    json.dump(yelp_data, f, indent=4)\n",
    "\n",
    "# Optional: Convert to DataFrame\n",
    "yelp_df = pd.json_normalize(yelp_data)\n",
    "print(yelp_df.head())\n"
   ]
  },
  {
   "cell_type": "markdown",
   "id": "7969cb2b-ec31-4450-b00a-a044ea9397b6",
   "metadata": {},
   "source": [
    "## 3. Combine and Analyze the Data"
   ]
  },
  {
   "cell_type": "code",
   "execution_count": 3,
   "id": "fa899e0e-351d-4ee7-b0d3-e117a23561e9",
   "metadata": {},
   "outputs": [
    {
     "ename": "FileNotFoundError",
     "evalue": "[Errno 2] No such file or directory: 'google_places_data.json'",
     "output_type": "error",
     "traceback": [
      "\u001b[0;31m---------------------------------------------------------------------------\u001b[0m",
      "\u001b[0;31mFileNotFoundError\u001b[0m                         Traceback (most recent call last)",
      "Input \u001b[0;32mIn [3]\u001b[0m, in \u001b[0;36m<cell line: 2>\u001b[0;34m()\u001b[0m\n\u001b[1;32m      1\u001b[0m \u001b[38;5;66;03m# Load data if already saved as JSON\u001b[39;00m\n\u001b[0;32m----> 2\u001b[0m \u001b[38;5;28;01mwith\u001b[39;00m \u001b[38;5;28;43mopen\u001b[39;49m\u001b[43m(\u001b[49m\u001b[38;5;124;43m\"\u001b[39;49m\u001b[38;5;124;43mgoogle_places_data.json\u001b[39;49m\u001b[38;5;124;43m\"\u001b[39;49m\u001b[43m,\u001b[49m\u001b[43m \u001b[49m\u001b[38;5;124;43m\"\u001b[39;49m\u001b[38;5;124;43mr\u001b[39;49m\u001b[38;5;124;43m\"\u001b[39;49m\u001b[43m)\u001b[49m \u001b[38;5;28;01mas\u001b[39;00m f:\n\u001b[1;32m      3\u001b[0m     google_places_data \u001b[38;5;241m=\u001b[39m json\u001b[38;5;241m.\u001b[39mload(f)\n\u001b[1;32m      5\u001b[0m \u001b[38;5;28;01mwith\u001b[39;00m \u001b[38;5;28mopen\u001b[39m(\u001b[38;5;124m\"\u001b[39m\u001b[38;5;124myelp_data.json\u001b[39m\u001b[38;5;124m\"\u001b[39m, \u001b[38;5;124m\"\u001b[39m\u001b[38;5;124mr\u001b[39m\u001b[38;5;124m\"\u001b[39m) \u001b[38;5;28;01mas\u001b[39;00m f:\n",
      "\u001b[0;31mFileNotFoundError\u001b[0m: [Errno 2] No such file or directory: 'google_places_data.json'"
     ]
    }
   ],
   "source": [
    "# Load data if already saved as JSON\n",
    "with open(\"google_places_data.json\", \"r\") as f:\n",
    "    google_places_data = json.load(f)\n",
    "\n",
    "with open(\"yelp_data.json\", \"r\") as f:\n",
    "    yelp_data = json.load(f)\n",
    "\n",
    "# Convert both to DataFrames\n",
    "google_df = pd.json_normalize(google_places_data)\n",
    "yelp_df = pd.json_normalize(yelp_data)\n",
    "\n",
    "# Sample merge based on business name (requires cleaning and deduplication)\n",
    "combined_df = pd.merge(google_df, yelp_df, on=\"name\", suffixes=(\"_google\", \"_yelp\"))\n",
    "\n",
    "print(combined_df.head())\n"
   ]
  },
  {
   "cell_type": "markdown",
   "id": "786850ee-30d7-4a9e-9988-a75e9a136648",
   "metadata": {},
   "source": [
    "Additional Considerations\n",
    "Rate Limiting: Both APIs impose limits on request rates; handle this by implementing retries and backoffs.\n",
    "Cost Management: Limit the number of results by adjusting search radius, query, and request frequency to stay within free API usage limits.\n",
    "Data Quality: Data from each API may have slight differences in business names or formats, so consider preprocessing (e.g., fuzzy matching) for accurate deduplication.\n",
    "This setup allows you to collect, analyze, and visualize business data, which can serve as the foundation for building insights into local business popularity and traffic trends.\n",
    "\n",
    "\n",
    "\n",
    "\n",
    "\n",
    "\n"
   ]
  },
  {
   "cell_type": "code",
   "execution_count": null,
   "id": "296fda44-759e-41a7-9ee5-81be0561896f",
   "metadata": {},
   "outputs": [],
   "source": []
  }
 ],
 "metadata": {
  "kernelspec": {
   "display_name": "Python (3.11)",
   "language": "python",
   "name": "your_custom_kernel_name"
  },
  "language_info": {
   "codemirror_mode": {
    "name": "ipython",
    "version": 3
   },
   "file_extension": ".py",
   "mimetype": "text/x-python",
   "name": "python",
   "nbconvert_exporter": "python",
   "pygments_lexer": "ipython3",
   "version": "3.10.2"
  }
 },
 "nbformat": 4,
 "nbformat_minor": 5
}
